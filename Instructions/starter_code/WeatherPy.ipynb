{
 "cells": [
  {
   "cell_type": "markdown",
   "metadata": {},
   "source": [
    "# WeatherPy\n",
    "----\n",
    "\n",
    "#### Note\n",
    "* Instructions have been included for each segment. You do not have to follow them exactly, but they are included to help you think through the steps."
   ]
  },
  {
   "cell_type": "code",
   "execution_count": 1,
   "metadata": {},
   "outputs": [],
   "source": [
    "# pip install citipy before running this code if you haven't already"
   ]
  },
  {
   "cell_type": "code",
   "execution_count": 1,
   "metadata": {
    "scrolled": true
   },
   "outputs": [],
   "source": [
    "# Dependencies and Setup\n",
    "import matplotlib.pyplot as plt\n",
    "import pandas as pd\n",
    "import numpy as np\n",
    "import requests\n",
    "import time\n",
    "from scipy.stats import linregress\n",
    "\n",
    "\n",
    "# Import API key\n",
    "from api_keys import weather_api_key\n",
    "\n",
    "# Incorporated citipy to determine city based on latitude and longitude\n",
    "from citipy import citipy\n",
    "\n",
    "# Output File (CSV)\n",
    "output_data_file = \"output_data/cities.csv\"\n",
    "\n",
    "# Range of latitudes and longitudes\n",
    "lat_range = (-90, 90)\n",
    "lng_range = (-180, 180)"
   ]
  },
  {
   "cell_type": "markdown",
   "metadata": {},
   "source": [
    "## Generate Cities List"
   ]
  },
  {
   "cell_type": "code",
   "execution_count": 2,
   "metadata": {},
   "outputs": [
    {
     "data": {
      "text/plain": [
       "617"
      ]
     },
     "execution_count": 2,
     "metadata": {},
     "output_type": "execute_result"
    }
   ],
   "source": [
    "# List for holding lat_lngs and cities\n",
    "lat_lngs = []\n",
    "cities = []\n",
    "\n",
    "# Create a set of random lat and lng combinations\n",
    "lats = np.random.uniform(lat_range[0], lat_range[1], size=1500)\n",
    "lngs = np.random.uniform(lng_range[0], lng_range[1], size=1500)\n",
    "lat_lngs = zip(lats, lngs)\n",
    "\n",
    "# Identify nearest city for each lat, lng combination\n",
    "for lat_lng in lat_lngs:\n",
    "    city = citipy.nearest_city(lat_lng[0], lat_lng[1]).city_name\n",
    "    \n",
    "    # If the city is unique, then add it to a our cities list\n",
    "    if city not in cities:\n",
    "        cities.append(city)\n",
    "\n",
    "# Print the city count to confirm sufficient count\n",
    "len(cities)"
   ]
  },
  {
   "cell_type": "markdown",
   "metadata": {},
   "source": [
    "### Perform API Calls\n",
    "* Perform a weather check on each city using a series of successive API calls.\n",
    "* Include a print log of each city as it'sbeing processed (with the city number and city name).\n"
   ]
  },
  {
   "cell_type": "code",
   "execution_count": 3,
   "metadata": {},
   "outputs": [
    {
     "name": "stdout",
     "output_type": "stream",
     "text": [
      "we have found bluff\n",
      "we have found rikitea\n",
      "we have found bondo\n",
      "Oopsie\n",
      "we have found hobart\n",
      "we have found sanming\n",
      "we have found vaini\n",
      "we have found port lincoln\n",
      "we have found fairbanks\n",
      "we have found port alfred\n",
      "we have found ushuaia\n",
      "we have found loubomo\n",
      "we have found castro\n",
      "we have found kapaa\n",
      "we have found adrar\n",
      "we have found barrow\n",
      "we have found cidreira\n",
      "we have found skovorodino\n",
      "we have found puerto ayora\n",
      "Oopsie\n",
      "Oopsie\n",
      "we have found airai\n",
      "we have found pacific grove\n",
      "we have found port blair\n",
      "we have found east london\n",
      "we have found avarua\n",
      "Oopsie\n",
      "we have found cabo san lucas\n",
      "we have found san quintin\n",
      "we have found araouane\n",
      "we have found batouri\n",
      "we have found jamestown\n",
      "we have found shelburne\n",
      "Oopsie\n",
      "we have found waipawa\n",
      "we have found brae\n",
      "we have found atuona\n",
      "we have found pisco\n",
      "we have found hobe sound\n",
      "we have found lasa\n",
      "we have found haines junction\n",
      "we have found butaritari\n",
      "we have found hermanus\n",
      "we have found busselton\n",
      "we have found morehead\n",
      "we have found padang\n",
      "we have found ribeira grande\n",
      "we have found floresta\n",
      "we have found new norfolk\n",
      "we have found san policarpo\n",
      "we have found mataura\n",
      "we have found pangnirtung\n",
      "Oopsie\n",
      "we have found sabang\n",
      "we have found port moresby\n",
      "we have found luderitz\n",
      "we have found zolotukhino\n",
      "we have found prince george\n",
      "we have found albany\n",
      "we have found tiksi\n",
      "we have found olga\n",
      "we have found geraldton\n",
      "we have found nikolskoye\n",
      "we have found punta arenas\n",
      "we have found santa cruz\n",
      "we have found victoria\n",
      "we have found itupiranga\n",
      "we have found mackay\n",
      "we have found kernersville\n",
      "we have found nuevo progreso\n",
      "we have found cape town\n",
      "we have found nishihara\n",
      "we have found saint-philippe\n",
      "we have found sao filipe\n",
      "we have found bestobe\n",
      "we have found kavieng\n",
      "we have found poum\n",
      "we have found pevek\n",
      "Oopsie\n",
      "we have found taylorville\n",
      "we have found zhicheng\n",
      "we have found sur\n",
      "we have found haveli\n",
      "we have found norman wells\n",
      "we have found guanica\n",
      "we have found yertarskiy\n",
      "we have found veinticinco de mayo\n",
      "Oopsie\n",
      "we have found touros\n",
      "we have found namibe\n",
      "we have found dera bugti\n",
      "we have found omsukchan\n",
      "we have found saint-pierre\n",
      "we have found alofi\n",
      "we have found taltal\n",
      "we have found mar del plata\n",
      "we have found susehri\n",
      "Oopsie\n",
      "we have found fairhope\n",
      "we have found kirakira\n",
      "Oopsie\n",
      "we have found grand gaube\n",
      "we have found sabha\n",
      "we have found huilong\n",
      "we have found odweyne\n",
      "we have found yashan\n",
      "we have found turayf\n",
      "we have found itarema\n",
      "we have found puerto cabezas\n",
      "we have found qaanaaq\n",
      "we have found hasaki\n",
      "we have found jieshi\n",
      "we have found esperance\n",
      "we have found dalvik\n",
      "we have found sitka\n",
      "we have found hithadhoo\n",
      "we have found saldanha\n",
      "we have found carnarvon\n",
      "we have found edzell\n",
      "we have found presidencia roque saenz pena\n",
      "we have found husavik\n",
      "we have found tigil\n",
      "we have found trairi\n",
      "we have found oyama\n",
      "we have found kruisfontein\n",
      "we have found longyearbyen\n",
      "we have found iqaluit\n",
      "we have found shitanjing\n",
      "we have found vanimo\n",
      "we have found ketchikan\n",
      "we have found namatanai\n",
      "we have found bredasdorp\n",
      "we have found upernavik\n",
      "Oopsie\n",
      "we have found bethel\n",
      "Oopsie\n",
      "we have found ogulin\n",
      "we have found klaksvik\n",
      "we have found naze\n",
      "we have found cayenne\n",
      "we have found inta\n",
      "we have found pouebo\n",
      "we have found moerai\n",
      "we have found dikson\n",
      "we have found itaqui\n",
      "Oopsie\n",
      "we have found arraial do cabo\n",
      "we have found soyo\n",
      "we have found prince rupert\n",
      "we have found druzhba\n",
      "we have found lompoc\n",
      "we have found russell\n",
      "we have found los llanos de aridane\n",
      "we have found nyurba\n",
      "Oopsie\n",
      "we have found thinadhoo\n",
      "we have found nouadhibou\n",
      "we have found ponta do sol\n",
      "we have found port elizabeth\n",
      "we have found balaguer\n",
      "we have found madaoua\n",
      "we have found mahebourg\n",
      "Oopsie\n",
      "we have found nanortalik\n",
      "we have found safaga\n",
      "we have found kintampo\n",
      "we have found zheleznodorozhnyy\n",
      "we have found nome\n",
      "we have found kodiak\n",
      "we have found namwala\n",
      "Oopsie\n",
      "we have found paoua\n",
      "we have found poiana cristei\n",
      "we have found chapais\n",
      "we have found malindi\n",
      "we have found kahului\n",
      "we have found saint-junien\n",
      "we have found eyemouth\n",
      "we have found houma\n",
      "Oopsie\n",
      "we have found bambous virieux\n",
      "we have found mahibadhoo\n",
      "we have found praia da vitoria\n",
      "we have found san jose\n",
      "we have found georgetown\n",
      "we have found alvaraes\n",
      "we have found bengkulu\n",
      "we have found roald\n",
      "we have found amahai\n",
      "we have found kaitangata\n",
      "we have found guerrero negro\n",
      "Oopsie\n",
      "we have found nantucket\n",
      "Oopsie\n",
      "we have found byron bay\n",
      "we have found yellowknife\n",
      "we have found ponot\n",
      "Oopsie\n",
      "we have found deputatskiy\n",
      "we have found along\n",
      "we have found dunedin\n",
      "we have found ust-tsilma\n",
      "we have found teya\n",
      "we have found shingu\n",
      "we have found kutum\n",
      "we have found comodoro rivadavia\n",
      "we have found marzuq\n",
      "we have found tautira\n",
      "we have found neuquen\n",
      "we have found strezhevoy\n",
      "we have found bakchar\n",
      "we have found qiongshan\n",
      "we have found saint-francois\n",
      "we have found kaduqli\n",
      "we have found sinnamary\n",
      "we have found saint anthony\n",
      "we have found ekhabi\n",
      "we have found tasiilaq\n",
      "we have found hirara\n",
      "we have found saint-joseph\n",
      "we have found joao pinheiro\n",
      "we have found katsuura\n",
      "we have found ambagarh chauki\n",
      "we have found thompson\n",
      "we have found torbay\n",
      "we have found quang ngai\n",
      "we have found yulara\n",
      "we have found lagoa\n",
      "we have found albury\n",
      "we have found fortuna\n",
      "we have found winneba\n",
      "we have found saint george\n",
      "we have found diffa\n",
      "we have found lebedyan\n",
      "we have found moose factory\n",
      "we have found broome\n",
      "we have found yangliuqing\n",
      "we have found moree\n",
      "we have found hilo\n",
      "we have found zaysan\n",
      "we have found south milwaukee\n",
      "we have found makokou\n",
      "we have found axim\n",
      "Oopsie\n",
      "we have found sept-iles\n",
      "we have found richards bay\n",
      "we have found belen\n",
      "we have found hervey bay\n",
      "we have found nabire\n",
      "we have found cap-aux-meules\n",
      "we have found caborca\n",
      "we have found khatanga\n",
      "we have found lorengau\n",
      "we have found karratha\n",
      "we have found tura\n",
      "Oopsie\n",
      "we have found port hardy\n",
      "we have found gumla\n",
      "we have found springfield\n",
      "we have found tuktoyaktuk\n",
      "we have found lida\n",
      "we have found isabela\n",
      "we have found mitu\n",
      "we have found ingham\n",
      "we have found atlantic city\n",
      "we have found ancud\n",
      "we have found koungou\n",
      "we have found ilulissat\n",
      "we have found gao\n",
      "we have found chicama\n",
      "we have found basco\n",
      "Oopsie\n",
      "we have found beyneu\n",
      "we have found murgab\n",
      "we have found santa maria\n",
      "we have found brownsville\n",
      "we have found maniitsoq\n",
      "we have found zhezkazgan\n",
      "we have found harper\n",
      "Oopsie\n",
      "we have found verkhniy baskunchak\n",
      "we have found amapa\n",
      "we have found lebu\n",
      "we have found progreso\n",
      "we have found aykhal\n",
      "we have found constitucion\n",
      "we have found severo-kurilsk\n",
      "we have found kaikalur\n",
      "we have found uddevalla\n",
      "we have found nardaran\n",
      "Oopsie\n",
      "we have found napanee\n",
      "we have found chuy\n",
      "we have found sulangan\n",
      "we have found suleja\n",
      "we have found krasnoselkup\n",
      "we have found tapejara\n",
      "we have found wenzhou\n",
      "we have found vila velha\n",
      "we have found oktyabrskoye\n",
      "we have found sorland\n",
      "we have found jodhpur\n",
      "we have found zhigalovo\n",
      "we have found daokou\n",
      "Oopsie\n",
      "we have found colac\n",
      "Oopsie\n",
      "we have found vestmannaeyjar\n",
      "Oopsie\n",
      "we have found vadso\n",
      "Oopsie\n",
      "we have found codrington\n",
      "we have found saskylakh\n",
      "we have found santa lucia\n",
      "we have found zhigansk\n",
      "we have found kloulklubed\n",
      "we have found bathsheba\n",
      "we have found paso de patria\n",
      "we have found ahipara\n",
      "we have found mahbubabad\n",
      "we have found marawi\n",
      "we have found nieuwpoort\n",
      "Oopsie\n",
      "we have found caraballeda\n",
      "we have found gamba\n",
      "we have found businga\n",
      "we have found lavrentiya\n",
      "we have found sao felipe\n",
      "we have found manuk mangkaw\n",
      "we have found port-gentil\n",
      "we have found adela\n",
      "we have found huarmey\n",
      "we have found bend\n",
      "we have found ostrovnoy\n",
      "we have found baruun-urt\n",
      "we have found portel\n",
      "we have found palauig\n",
      "Oopsie\n",
      "we have found cherskiy\n",
      "we have found surgut\n",
      "we have found mokshan\n",
      "we have found nyzhni sirohozy\n",
      "we have found seddon\n",
      "we have found rudnogorsk\n",
      "we have found lingyuan\n",
      "we have found sibi\n",
      "we have found khasan\n",
      "we have found puerto narino\n",
      "we have found dubrovytsya\n",
      "we have found lethem\n",
      "we have found sao joao da barra\n",
      "we have found passo de camaragibe\n",
      "we have found chokurdakh\n",
      "we have found mercedes\n",
      "we have found arkadak\n",
      "we have found nara\n",
      "we have found louisville\n",
      "we have found aklavik\n",
      "we have found taoudenni\n",
      "we have found san patricio\n",
      "Oopsie\n",
      "we have found salalah\n",
      "we have found gat\n",
      "we have found saravan\n",
      "we have found coihaique\n",
      "we have found srednekolymsk\n",
      "we have found apomu\n",
      "we have found yerbogachen\n",
      "we have found guilin\n",
      "we have found charlestown\n",
      "we have found kununurra\n",
      "we have found camacha\n"
     ]
    },
    {
     "name": "stdout",
     "output_type": "stream",
     "text": [
      "we have found tiznit\n",
      "Oopsie\n",
      "we have found coruripe\n",
      "we have found ashland\n",
      "we have found marshall\n",
      "we have found frankfort\n",
      "we have found newport\n",
      "we have found laguna\n",
      "we have found banjar\n",
      "we have found chernyshevsk\n",
      "we have found ust-nera\n",
      "we have found asyut\n",
      "we have found peniche\n",
      "we have found leningradskiy\n",
      "Oopsie\n",
      "we have found vaitape\n",
      "we have found lucapa\n",
      "Oopsie\n",
      "we have found ostersund\n",
      "we have found bilibino\n",
      "Oopsie\n",
      "we have found ashford\n",
      "we have found te anau\n",
      "we have found pekan\n",
      "we have found paracatu\n",
      "we have found clyde river\n",
      "we have found khartoum\n",
      "we have found yangambi\n",
      "we have found ahuimanu\n",
      "we have found kyren\n",
      "we have found provideniya\n",
      "we have found vilyuysk\n",
      "we have found santa cruz cabralia\n",
      "we have found talnakh\n",
      "we have found vao\n",
      "we have found channel-port aux basques\n",
      "we have found havoysund\n",
      "we have found biak\n",
      "we have found yerofey pavlovich\n",
      "we have found palmas\n",
      "we have found alta floresta\n",
      "we have found natal\n",
      "we have found jalu\n",
      "we have found vardo\n",
      "we have found tuatapere\n",
      "we have found tiarei\n",
      "we have found yokadouma\n",
      "we have found parabel\n",
      "we have found avera\n",
      "we have found cody\n",
      "we have found uglegorsk\n",
      "we have found cairns\n",
      "we have found toamasina\n",
      "Oopsie\n",
      "we have found aketi\n",
      "we have found finschhafen\n",
      "we have found belyy yar\n",
      "we have found mwingi\n",
      "we have found marsh harbour\n",
      "we have found yatou\n",
      "we have found burlington\n",
      "we have found kanadey\n",
      "we have found teknaf\n",
      "we have found ternate\n",
      "we have found yacuiba\n",
      "we have found shimoda\n",
      "we have found acari\n",
      "we have found meulaboh\n",
      "we have found khangarh\n",
      "we have found ust-kut\n",
      "we have found pemangkat\n",
      "Oopsie\n",
      "we have found nelson bay\n",
      "we have found hokitika\n",
      "we have found carauari\n",
      "we have found gushikawa\n",
      "we have found mount gambier\n",
      "we have found saquena\n",
      "we have found boz\n",
      "we have found margate\n",
      "we have found marathon\n",
      "we have found naranjal\n",
      "we have found aguimes\n",
      "we have found neiafu\n",
      "we have found la palma\n",
      "we have found ararat\n",
      "we have found mattru\n",
      "we have found jacqueville\n",
      "we have found raga\n",
      "we have found atar\n",
      "we have found dudinka\n",
      "we have found surt\n",
      "we have found andenes\n",
      "we have found rabo de peixe\n",
      "we have found rodekro\n",
      "we have found muscat\n",
      "we have found sangar\n",
      "we have found akyab\n",
      "we have found flinders\n",
      "Oopsie\n",
      "we have found balkanabat\n",
      "we have found isangel\n",
      "we have found umea\n",
      "we have found west bay\n",
      "Oopsie\n",
      "we have found balakhninskiy\n",
      "we have found ghansor\n",
      "we have found otukpo\n",
      "we have found grafton\n",
      "we have found baturaja\n",
      "we have found tocopilla\n",
      "we have found souillac\n",
      "we have found dakar\n",
      "we have found hurghada\n",
      "we have found muros\n",
      "we have found tallahassee\n",
      "we have found mana\n",
      "we have found salinopolis\n",
      "we have found prainha\n",
      "we have found olafsvik\n",
      "we have found rawson\n",
      "we have found hofn\n",
      "we have found henties bay\n",
      "we have found neyshabur\n",
      "we have found mitsamiouli\n",
      "we have found lerwick\n",
      "we have found la ronge\n",
      "we have found vulcan\n",
      "we have found trinidad\n",
      "we have found maarianhamina\n",
      "we have found muroto\n",
      "we have found champerico\n",
      "Oopsie\n",
      "we have found mogzon\n",
      "we have found saint-leu\n",
      "we have found yomou\n",
      "we have found amboasary\n",
      "we have found ballina\n",
      "we have found berlevag\n",
      "we have found nauta\n",
      "we have found arak\n",
      "Oopsie\n",
      "we have found moyale\n",
      "Oopsie\n",
      "we have found vung tau\n",
      "we have found hornepayne\n",
      "we have found tessalit\n",
      "we have found hobyo\n",
      "we have found arrifes\n",
      "we have found umm kaddadah\n",
      "we have found north platte\n",
      "we have found tezu\n",
      "we have found chipinge\n",
      "we have found kroya\n",
      "we have found boa vista\n",
      "we have found takoradi\n",
      "we have found santo antonio do amparo\n",
      "we have found juneau\n",
      "we have found ugoofaaru\n",
      "we have found paita\n",
      "we have found malinovskiy\n",
      "we have found bemidji\n",
      "we have found kurchum\n",
      "we have found robertsport\n",
      "we have found livingstonia\n",
      "we have found luanda\n",
      "we have found nanyang\n",
      "we have found singkawang\n",
      "we have found bay city\n",
      "we have found faya\n",
      "we have found warrington\n",
      "we have found rockhampton\n",
      "we have found baglung\n",
      "we have found tupik\n",
      "we have found the pas\n",
      "we have found garowe\n",
      "we have found balatonszarszo\n",
      "we have found waingapu\n",
      "we have found baoding\n",
      "we have found stony plain\n",
      "we have found palmer\n",
      "we have found kardla\n",
      "we have found damara\n",
      "we have found manokwari\n",
      "we have found daru\n",
      "we have found palana\n",
      "we have found nagyecsed\n",
      "we have found bilma\n",
      "we have found mantua\n",
      "we have found itinga\n",
      "we have found komsomolskiy\n",
      "we have found neryungri\n",
      "we have found anloga\n",
      "we have found tanete\n",
      "we have found tefe\n",
      "we have found palmares do sul\n",
      "we have found coahuayana\n",
      "we have found san cristobal\n",
      "we have found kihei\n",
      "we have found karpathos\n",
      "we have found mayor pablo lagerenza\n",
      "we have found alpena\n",
      "we have found rocha\n",
      "we have found skjervoy\n",
      "we have found katherine\n",
      "we have found pittsburg\n",
      "we have found port-cartier\n",
      "we have found veraval\n",
      "we have found barcelona\n",
      "we have found kenora\n",
      "we have found nouakchott\n",
      "we have found ullal\n",
      "we have found benguela\n",
      "we have found campana\n",
      "we have found bac lieu\n",
      "we have found kangundo\n",
      "we have found san jeronimo\n",
      "Oopsie\n",
      "we have found dholka\n",
      "we have found awjilah\n",
      "we have found raudeberg\n",
      "we have found bambanglipuro\n",
      "we have found verkhnevilyuysk\n",
      "we have found eureka\n",
      "we have found puerto guzman\n",
      "we have found petropavlovsk-kamchatskiy\n",
      "we have found zabid\n",
      "we have found batagay-alyta\n",
      "we have found san rafael del sur\n",
      "we have found yabrud\n",
      "we have found narsaq\n",
      "we have found acapulco\n",
      "we have found shubarshi\n",
      "we have found zhuhai\n",
      "we have found vyazma\n",
      "we have found cordoba\n",
      "we have found karczew\n",
      "we have found honavar\n",
      "we have found selenduma\n",
      "we have found kjollefjord\n",
      "we have found florence\n",
      "we have found ginda\n",
      "we have found evensk\n",
      "we have found jacksonville\n",
      "we have found abadan\n"
     ]
    }
   ],
   "source": [
    "# Save config information.\n",
    "url = \"http://api.openweathermap.org/data/2.5/weather?\"\n",
    "units = \"metric\"\n",
    "# Build partial query URL\n",
    "query_url = f\"{url}appid={weather_api_key}&units={units}&q=\"\n",
    "# set up lists to hold reponse info\n",
    "temp = []\n",
    "lat = []\n",
    "lng = []\n",
    "max_temp = []\n",
    "humidity = []\n",
    "cloudiness = []\n",
    "wind_speed = []\n",
    "country = []\n",
    "date = []\n",
    "cityies = []\n",
    "\n",
    "# Loop through the list of cities and perform a request for data on each\n",
    "for city in cities:\n",
    "    response = requests.get(query_url + city).json()\n",
    "    try:\n",
    "        temp.append(response['main']['temp'])\n",
    "        lat.append(response['coord']['lat'])\n",
    "        lng.append(response['coord']['lon'])\n",
    "        max_temp.append(response['main']['temp_max'])\n",
    "        humidity.append(response['main']['humidity'])\n",
    "        cloudiness.append(response['clouds']['all'])\n",
    "        country.append(response['sys']['country'])\n",
    "        date.append(response['dt'])\n",
    "        wind_speed.append(response['wind']['speed'])\n",
    "        cityies.append(city)\n",
    "        print(f\"we have found {city}\")\n",
    "    except:\n",
    "        print(\"Oopsie\")"
   ]
  },
  {
   "cell_type": "markdown",
   "metadata": {},
   "source": [
    "### Convert Raw Data to DataFrame\n",
    "* Export the city data into a .csv.\n",
    "* Display the DataFrame"
   ]
  },
  {
   "cell_type": "code",
   "execution_count": 4,
   "metadata": {},
   "outputs": [
    {
     "data": {
      "text/html": [
       "<div>\n",
       "<style scoped>\n",
       "    .dataframe tbody tr th:only-of-type {\n",
       "        vertical-align: middle;\n",
       "    }\n",
       "\n",
       "    .dataframe tbody tr th {\n",
       "        vertical-align: top;\n",
       "    }\n",
       "\n",
       "    .dataframe thead th {\n",
       "        text-align: right;\n",
       "    }\n",
       "</style>\n",
       "<table border=\"1\" class=\"dataframe\">\n",
       "  <thead>\n",
       "    <tr style=\"text-align: right;\">\n",
       "      <th></th>\n",
       "      <th>City</th>\n",
       "      <th>Lat</th>\n",
       "      <th>Lng</th>\n",
       "      <th>Max Temp</th>\n",
       "      <th>Humidity</th>\n",
       "      <th>Cloudiness</th>\n",
       "      <th>Wind Speed</th>\n",
       "      <th>Country</th>\n",
       "      <th>Date</th>\n",
       "    </tr>\n",
       "  </thead>\n",
       "  <tbody>\n",
       "    <tr>\n",
       "      <th>0</th>\n",
       "      <td>bluff</td>\n",
       "      <td>-46.60</td>\n",
       "      <td>168.33</td>\n",
       "      <td>9.86</td>\n",
       "      <td>94</td>\n",
       "      <td>100</td>\n",
       "      <td>5.20</td>\n",
       "      <td>NZ</td>\n",
       "      <td>1593313097</td>\n",
       "    </tr>\n",
       "    <tr>\n",
       "      <th>1</th>\n",
       "      <td>rikitea</td>\n",
       "      <td>-23.12</td>\n",
       "      <td>-134.97</td>\n",
       "      <td>21.17</td>\n",
       "      <td>72</td>\n",
       "      <td>9</td>\n",
       "      <td>8.92</td>\n",
       "      <td>PF</td>\n",
       "      <td>1593313097</td>\n",
       "    </tr>\n",
       "    <tr>\n",
       "      <th>2</th>\n",
       "      <td>bondo</td>\n",
       "      <td>3.81</td>\n",
       "      <td>23.69</td>\n",
       "      <td>19.03</td>\n",
       "      <td>97</td>\n",
       "      <td>92</td>\n",
       "      <td>0.61</td>\n",
       "      <td>CD</td>\n",
       "      <td>1593313097</td>\n",
       "    </tr>\n",
       "    <tr>\n",
       "      <th>3</th>\n",
       "      <td>hobart</td>\n",
       "      <td>-42.88</td>\n",
       "      <td>147.33</td>\n",
       "      <td>10.00</td>\n",
       "      <td>66</td>\n",
       "      <td>0</td>\n",
       "      <td>2.60</td>\n",
       "      <td>AU</td>\n",
       "      <td>1593312828</td>\n",
       "    </tr>\n",
       "    <tr>\n",
       "      <th>4</th>\n",
       "      <td>sanming</td>\n",
       "      <td>26.25</td>\n",
       "      <td>117.62</td>\n",
       "      <td>34.23</td>\n",
       "      <td>49</td>\n",
       "      <td>100</td>\n",
       "      <td>2.85</td>\n",
       "      <td>CN</td>\n",
       "      <td>1593313098</td>\n",
       "    </tr>\n",
       "  </tbody>\n",
       "</table>\n",
       "</div>"
      ],
      "text/plain": [
       "      City    Lat     Lng  Max Temp  Humidity  Cloudiness  Wind Speed Country  \\\n",
       "0    bluff -46.60  168.33      9.86        94         100        5.20      NZ   \n",
       "1  rikitea -23.12 -134.97     21.17        72           9        8.92      PF   \n",
       "2    bondo   3.81   23.69     19.03        97          92        0.61      CD   \n",
       "3   hobart -42.88  147.33     10.00        66           0        2.60      AU   \n",
       "4  sanming  26.25  117.62     34.23        49         100        2.85      CN   \n",
       "\n",
       "         Date  \n",
       "0  1593313097  \n",
       "1  1593313097  \n",
       "2  1593313097  \n",
       "3  1593312828  \n",
       "4  1593313098  "
      ]
     },
     "execution_count": 4,
     "metadata": {},
     "output_type": "execute_result"
    }
   ],
   "source": [
    "weather_df = pd.DataFrame({\"City\":cityies, \"Lat\":lat, \"Lng\":lng, \"Max Temp\":max_temp, \"Humidity\":humidity,\n",
    "                          \"Cloudiness\":cloudiness, \"Wind Speed\":wind_speed, \"Country\":country, \"Date\":date})\n",
    "weather_df.to_csv('Weather.csv')\n",
    "weather_df.head()\n",
    "#len(weather_df)"
   ]
  },
  {
   "cell_type": "code",
   "execution_count": 5,
   "metadata": {},
   "outputs": [
    {
     "data": {
      "text/plain": [
       "City          573\n",
       "Lat           573\n",
       "Lng           573\n",
       "Max Temp      573\n",
       "Humidity      573\n",
       "Cloudiness    573\n",
       "Wind Speed    573\n",
       "Country       573\n",
       "Date          573\n",
       "dtype: int64"
      ]
     },
     "execution_count": 5,
     "metadata": {},
     "output_type": "execute_result"
    }
   ],
   "source": [
    "weather_df.count()"
   ]
  },
  {
   "cell_type": "markdown",
   "metadata": {},
   "source": [
    "## Inspect the data and remove the cities where the humidity > 100%.\n",
    "----\n",
    "Skip this step if there are no cities that have humidity > 100%. "
   ]
  },
  {
   "cell_type": "code",
   "execution_count": 12,
   "metadata": {},
   "outputs": [
    {
     "data": {
      "text/html": [
       "<div>\n",
       "<style scoped>\n",
       "    .dataframe tbody tr th:only-of-type {\n",
       "        vertical-align: middle;\n",
       "    }\n",
       "\n",
       "    .dataframe tbody tr th {\n",
       "        vertical-align: top;\n",
       "    }\n",
       "\n",
       "    .dataframe thead th {\n",
       "        text-align: right;\n",
       "    }\n",
       "</style>\n",
       "<table border=\"1\" class=\"dataframe\">\n",
       "  <thead>\n",
       "    <tr style=\"text-align: right;\">\n",
       "      <th></th>\n",
       "      <th>City</th>\n",
       "      <th>Lat</th>\n",
       "      <th>Lng</th>\n",
       "      <th>Max Temp</th>\n",
       "      <th>Humidity</th>\n",
       "      <th>Cloudiness</th>\n",
       "      <th>Wind Speed</th>\n",
       "      <th>Country</th>\n",
       "      <th>Date</th>\n",
       "    </tr>\n",
       "  </thead>\n",
       "  <tbody>\n",
       "    <tr>\n",
       "      <th>0</th>\n",
       "      <td>bluff</td>\n",
       "      <td>-46.60</td>\n",
       "      <td>168.33</td>\n",
       "      <td>9.86</td>\n",
       "      <td>94</td>\n",
       "      <td>100</td>\n",
       "      <td>5.20</td>\n",
       "      <td>NZ</td>\n",
       "      <td>1593313097</td>\n",
       "    </tr>\n",
       "    <tr>\n",
       "      <th>1</th>\n",
       "      <td>rikitea</td>\n",
       "      <td>-23.12</td>\n",
       "      <td>-134.97</td>\n",
       "      <td>21.17</td>\n",
       "      <td>72</td>\n",
       "      <td>9</td>\n",
       "      <td>8.92</td>\n",
       "      <td>PF</td>\n",
       "      <td>1593313097</td>\n",
       "    </tr>\n",
       "    <tr>\n",
       "      <th>2</th>\n",
       "      <td>bondo</td>\n",
       "      <td>3.81</td>\n",
       "      <td>23.69</td>\n",
       "      <td>19.03</td>\n",
       "      <td>97</td>\n",
       "      <td>92</td>\n",
       "      <td>0.61</td>\n",
       "      <td>CD</td>\n",
       "      <td>1593313097</td>\n",
       "    </tr>\n",
       "    <tr>\n",
       "      <th>3</th>\n",
       "      <td>hobart</td>\n",
       "      <td>-42.88</td>\n",
       "      <td>147.33</td>\n",
       "      <td>10.00</td>\n",
       "      <td>66</td>\n",
       "      <td>0</td>\n",
       "      <td>2.60</td>\n",
       "      <td>AU</td>\n",
       "      <td>1593312828</td>\n",
       "    </tr>\n",
       "    <tr>\n",
       "      <th>4</th>\n",
       "      <td>sanming</td>\n",
       "      <td>26.25</td>\n",
       "      <td>117.62</td>\n",
       "      <td>34.23</td>\n",
       "      <td>49</td>\n",
       "      <td>100</td>\n",
       "      <td>2.85</td>\n",
       "      <td>CN</td>\n",
       "      <td>1593313098</td>\n",
       "    </tr>\n",
       "    <tr>\n",
       "      <th>5</th>\n",
       "      <td>vaini</td>\n",
       "      <td>-21.20</td>\n",
       "      <td>-175.20</td>\n",
       "      <td>26.00</td>\n",
       "      <td>83</td>\n",
       "      <td>75</td>\n",
       "      <td>3.60</td>\n",
       "      <td>TO</td>\n",
       "      <td>1593313098</td>\n",
       "    </tr>\n",
       "    <tr>\n",
       "      <th>6</th>\n",
       "      <td>port lincoln</td>\n",
       "      <td>-34.73</td>\n",
       "      <td>135.87</td>\n",
       "      <td>15.51</td>\n",
       "      <td>46</td>\n",
       "      <td>0</td>\n",
       "      <td>5.16</td>\n",
       "      <td>AU</td>\n",
       "      <td>1593313098</td>\n",
       "    </tr>\n",
       "    <tr>\n",
       "      <th>7</th>\n",
       "      <td>fairbanks</td>\n",
       "      <td>64.84</td>\n",
       "      <td>-147.72</td>\n",
       "      <td>21.11</td>\n",
       "      <td>37</td>\n",
       "      <td>1</td>\n",
       "      <td>1.12</td>\n",
       "      <td>US</td>\n",
       "      <td>1593312932</td>\n",
       "    </tr>\n",
       "    <tr>\n",
       "      <th>8</th>\n",
       "      <td>port alfred</td>\n",
       "      <td>-33.59</td>\n",
       "      <td>26.89</td>\n",
       "      <td>16.56</td>\n",
       "      <td>50</td>\n",
       "      <td>85</td>\n",
       "      <td>15.48</td>\n",
       "      <td>ZA</td>\n",
       "      <td>1593312844</td>\n",
       "    </tr>\n",
       "    <tr>\n",
       "      <th>9</th>\n",
       "      <td>ushuaia</td>\n",
       "      <td>-54.80</td>\n",
       "      <td>-68.30</td>\n",
       "      <td>2.00</td>\n",
       "      <td>59</td>\n",
       "      <td>20</td>\n",
       "      <td>7.70</td>\n",
       "      <td>AR</td>\n",
       "      <td>1593313098</td>\n",
       "    </tr>\n",
       "  </tbody>\n",
       "</table>\n",
       "</div>"
      ],
      "text/plain": [
       "           City    Lat     Lng  Max Temp  Humidity  Cloudiness  Wind Speed  \\\n",
       "0         bluff -46.60  168.33      9.86        94         100        5.20   \n",
       "1       rikitea -23.12 -134.97     21.17        72           9        8.92   \n",
       "2         bondo   3.81   23.69     19.03        97          92        0.61   \n",
       "3        hobart -42.88  147.33     10.00        66           0        2.60   \n",
       "4       sanming  26.25  117.62     34.23        49         100        2.85   \n",
       "5         vaini -21.20 -175.20     26.00        83          75        3.60   \n",
       "6  port lincoln -34.73  135.87     15.51        46           0        5.16   \n",
       "7     fairbanks  64.84 -147.72     21.11        37           1        1.12   \n",
       "8   port alfred -33.59   26.89     16.56        50          85       15.48   \n",
       "9       ushuaia -54.80  -68.30      2.00        59          20        7.70   \n",
       "\n",
       "  Country        Date  \n",
       "0      NZ  1593313097  \n",
       "1      PF  1593313097  \n",
       "2      CD  1593313097  \n",
       "3      AU  1593312828  \n",
       "4      CN  1593313098  \n",
       "5      TO  1593313098  \n",
       "6      AU  1593313098  \n",
       "7      US  1593312932  \n",
       "8      ZA  1593312844  \n",
       "9      AR  1593313098  "
      ]
     },
     "execution_count": 12,
     "metadata": {},
     "output_type": "execute_result"
    }
   ],
   "source": [
    "weather_df.drop(weather_df.loc[weather_df['Humidity']>100].index, inplace=False)\n",
    "weather_df.head(10)"
   ]
  },
  {
   "cell_type": "code",
   "execution_count": 7,
   "metadata": {},
   "outputs": [],
   "source": [
    "#  Get the indices of cities that have humidity over 100%.\n"
   ]
  },
  {
   "cell_type": "markdown",
   "metadata": {},
   "source": [
    "## Plotting the Data\n",
    "* Use proper labeling of the plots using plot titles (including date of analysis) and axes labels.\n",
    "* Save the plotted figures as .pngs."
   ]
  },
  {
   "cell_type": "markdown",
   "metadata": {},
   "source": [
    "## Latitude vs. Temperature Plot"
   ]
  },
  {
   "cell_type": "code",
   "execution_count": 13,
   "metadata": {
    "scrolled": true
   },
   "outputs": [
    {
     "data": {
      "image/png": "[encoded data removed]",
      "text/plain": [
       "<Figure size 432x288 with 1 Axes>"
      ]
     },
     "metadata": {
      "needs_background": "light"
     },
     "output_type": "display_data"
    }
   ],
   "source": [
    "plt.scatter(weather_df[\"Lat\"], weather_df[\"Max Temp\"])\n",
    "plt.xlabel(\"Latitude\")\n",
    "plt.ylabel(\"Maximum Temperature\")\n",
    "plt.title(\"Latitude VS. Maximum Temperature\")\n",
    "plt.grid(True)\n",
    "\n",
    "#saving the figure\n",
    "plt.savefig(\"../output_data/Coudiness_vs_Latitude.png\")\n",
    "\n",
    "#Show plot\n",
    "plt.show()"
   ]
  },
  {
   "cell_type": "markdown",
   "metadata": {},
   "source": [
    "## Latitude vs. Humidity Plot"
   ]
  },
  {
   "cell_type": "code",
   "execution_count": 14,
   "metadata": {},
   "outputs": [
    {
     "data": {
      "image/png": "[encoded data removed]",
      "text/plain": [
       "<Figure size 432x288 with 1 Axes>"
      ]
     },
     "metadata": {
      "needs_background": "light"
     },
     "output_type": "display_data"
    }
   ],
   "source": [
    "plt.scatter(weather_df[\"Lat\"], weather_df[\"Humidity\"])\n",
    "plt.xlabel(\"Latitude\")\n",
    "plt.ylabel(\"Humidity (%)\")\n",
    "plt.title(\"Latitude vs. Humidity\")\n",
    "plt.grid(True)\n",
    "\n",
    "#saving the figure\n",
    "plt.savefig(\"../output_data/latitude_vs_humidity.png\")\n",
    "\n",
    "#Show plot\n",
    "plt.show()"
   ]
  },
  {
   "cell_type": "markdown",
   "metadata": {},
   "source": [
    "## Latitude vs. Cloudiness Plot"
   ]
  },
  {
   "cell_type": "code",
   "execution_count": 15,
   "metadata": {},
   "outputs": [
    {
     "data": {
      "image/png": "[encoded data removed]",
      "text/plain": [
       "<Figure size 432x288 with 1 Axes>"
      ]
     },
     "metadata": {
      "needs_background": "light"
     },
     "output_type": "display_data"
    }
   ],
   "source": [
    "plt.scatter(weather_df[\"Lat\"], weather_df[\"Cloudiness\"])\n",
    "plt.xlabel(\"Latitude\")\n",
    "plt.ylabel(\"Cloudiness (%)\")\n",
    "plt.title(\"Latitude vs. Cloudiness\")\n",
    "plt.grid(True)\n",
    "\n",
    "#saving the figure\n",
    "plt.savefig(\"../output_data/latitude_vs_coudiness.png\")\n",
    "\n",
    "#Show plot\n",
    "plt.show()"
   ]
  },
  {
   "cell_type": "markdown",
   "metadata": {},
   "source": [
    "## Latitude vs. Wind Speed Plot"
   ]
  },
  {
   "cell_type": "code",
   "execution_count": 16,
   "metadata": {},
   "outputs": [
    {
     "data": {
      "image/png": "[encoded data removed]",
      "text/plain": [
       "<Figure size 432x288 with 1 Axes>"
      ]
     },
     "metadata": {
      "needs_background": "light"
     },
     "output_type": "display_data"
    }
   ],
   "source": [
    "plt.scatter(weather_df[\"Lat\"], weather_df[\"Wind Speed\"])\n",
    "plt.xlabel(\"Latitude\")\n",
    "plt.ylabel(\"Wind Speed (mph)\")\n",
    "plt.title(\"Latitude vs. Wind Speed\")\n",
    "plt.grid(True)\n",
    "\n",
    "#saving the figure\n",
    "plt.savefig(\"../output_data/latitude_vs_wind_speed.png\")\n",
    "\n",
    "#Show plot\n",
    "plt.show()"
   ]
  },
  {
   "cell_type": "markdown",
   "metadata": {},
   "source": [
    "## Linear Regression"
   ]
  },
  {
   "cell_type": "code",
   "execution_count": 12,
   "metadata": {},
   "outputs": [],
   "source": [
    "# OPTIONAL: Create a function to create Linear Regression plots"
   ]
  },
  {
   "cell_type": "code",
   "execution_count": 13,
   "metadata": {},
   "outputs": [],
   "source": [
    "# Create Northern and Southern Hemisphere DataFrames"
   ]
  },
  {
   "cell_type": "markdown",
   "metadata": {},
   "source": [
    "####  Northern Hemisphere - Max Temp vs. Latitude Linear Regression"
   ]
  },
  {
   "cell_type": "code",
   "execution_count": 16,
   "metadata": {},
   "outputs": [
    {
     "name": "stdout",
     "output_type": "stream",
     "text": [
      "The r-squared is: 0.8271188905041935\n"
     ]
    },
    {
     "data": {
      "image/png": "[encoded data removed]",
      "text/plain": [
       "<Figure size 432x288 with 1 Axes>"
      ]
     },
     "metadata": {
      "needs_background": "light"
     },
     "output_type": "display_data"
    }
   ],
   "source": []
  },
  {
   "cell_type": "markdown",
   "metadata": {},
   "source": [
    "####  Southern Hemisphere - Max Temp vs. Latitude Linear Regression"
   ]
  },
  {
   "cell_type": "code",
   "execution_count": 17,
   "metadata": {},
   "outputs": [
    {
     "name": "stdout",
     "output_type": "stream",
     "text": [
      "The r-squared is: 0.39936284758885965\n"
     ]
    },
    {
     "data": {
      "image/png": "[encoded data removed]",
      "text/plain": [
       "<Figure size 432x288 with 1 Axes>"
      ]
     },
     "metadata": {
      "needs_background": "light"
     },
     "output_type": "display_data"
    }
   ],
   "source": []
  },
  {
   "cell_type": "markdown",
   "metadata": {},
   "source": [
    "####  Northern Hemisphere - Humidity (%) vs. Latitude Linear Regression"
   ]
  },
  {
   "cell_type": "code",
   "execution_count": 18,
   "metadata": {},
   "outputs": [
    {
     "name": "stdout",
     "output_type": "stream",
     "text": [
      "The r-squared is: 0.10829462153873139\n"
     ]
    },
    {
     "data": {
      "image/png": "[encoded data removed]",
      "text/plain": [
       "<Figure size 432x288 with 1 Axes>"
      ]
     },
     "metadata": {
      "needs_background": "light"
     },
     "output_type": "display_data"
    }
   ],
   "source": []
  },
  {
   "cell_type": "markdown",
   "metadata": {},
   "source": [
    "####  Southern Hemisphere - Humidity (%) vs. Latitude Linear Regression"
   ]
  },
  {
   "cell_type": "code",
   "execution_count": 19,
   "metadata": {},
   "outputs": [
    {
     "name": "stdout",
     "output_type": "stream",
     "text": [
      "The r-squared is: 0.0008996079328825663\n"
     ]
    },
    {
     "data": {
      "image/png": "[encoded data removed]",
      "text/plain": [
       "<Figure size 432x288 with 1 Axes>"
      ]
     },
     "metadata": {
      "needs_background": "light"
     },
     "output_type": "display_data"
    }
   ],
   "source": []
  },
  {
   "cell_type": "markdown",
   "metadata": {},
   "source": [
    "####  Northern Hemisphere - Cloudiness (%) vs. Latitude Linear Regression"
   ]
  },
  {
   "cell_type": "code",
   "execution_count": 20,
   "metadata": {},
   "outputs": [
    {
     "name": "stdout",
     "output_type": "stream",
     "text": [
      "The r-squared is: 0.05768812657005063\n"
     ]
    },
    {
     "data": {
      "image/png": "[encoded data removed]",
      "text/plain": [
       "<Figure size 432x288 with 1 Axes>"
      ]
     },
     "metadata": {
      "needs_background": "light"
     },
     "output_type": "display_data"
    }
   ],
   "source": []
  },
  {
   "cell_type": "markdown",
   "metadata": {},
   "source": [
    "####  Southern Hemisphere - Cloudiness (%) vs. Latitude Linear Regression"
   ]
  },
  {
   "cell_type": "code",
   "execution_count": 21,
   "metadata": {},
   "outputs": [
    {
     "name": "stdout",
     "output_type": "stream",
     "text": [
      "The r-squared is: 0.0684912094859049\n"
     ]
    },
    {
     "data": {
      "image/png": "[encoded data removed]",
      "text/plain": [
       "<Figure size 432x288 with 1 Axes>"
      ]
     },
     "metadata": {
      "needs_background": "light"
     },
     "output_type": "display_data"
    }
   ],
   "source": []
  },
  {
   "cell_type": "markdown",
   "metadata": {},
   "source": [
    "####  Northern Hemisphere - Wind Speed (mph) vs. Latitude Linear Regression"
   ]
  },
  {
   "cell_type": "code",
   "execution_count": 22,
   "metadata": {},
   "outputs": [
    {
     "name": "stdout",
     "output_type": "stream",
     "text": [
      "The r-squared is: 0.023371104533850804\n"
     ]
    },
    {
     "data": {
      "image/png": "[encoded data removed]",
      "text/plain": [
       "<Figure size 432x288 with 1 Axes>"
      ]
     },
     "metadata": {
      "needs_background": "light"
     },
     "output_type": "display_data"
    }
   ],
   "source": []
  },
  {
   "cell_type": "markdown",
   "metadata": {},
   "source": [
    "####  Southern Hemisphere - Wind Speed (mph) vs. Latitude Linear Regression"
   ]
  },
  {
   "cell_type": "code",
   "execution_count": 23,
   "metadata": {},
   "outputs": [
    {
     "name": "stdout",
     "output_type": "stream",
     "text": [
      "The r-squared is: 0.03381889207758188\n"
     ]
    },
    {
     "data": {
      "image/png": "[encoded data removed]",
      "text/plain": [
       "<Figure size 432x288 with 1 Axes>"
      ]
     },
     "metadata": {
      "needs_background": "light"
     },
     "output_type": "display_data"
    }
   ],
   "source": []
  },
  {
   "cell_type": "code",
   "execution_count": null,
   "metadata": {},
   "outputs": [],
   "source": []
  }
 ],
 "metadata": {
  "anaconda-cloud": {},
  "kernel_info": {
   "name": "python3"
  },
  "kernelspec": {
   "display_name": "Python 3",
   "language": "python",
   "name": "python3"
  },
  "language_info": {
   "codemirror_mode": {
    "name": "ipython",
    "version": 3
   },
   "file_extension": ".py",
   "mimetype": "text/x-python",
   "name": "python",
   "nbconvert_exporter": "python",
   "pygments_lexer": "ipython3",
   "version": "3.7.6"
  },
  "latex_envs": {
   "LaTeX_envs_menu_present": true,
   "autoclose": false,
   "autocomplete": true,
   "bibliofile": "biblio.bib",
   "cite_by": "apalike",
   "current_citInitial": 1,
   "eqLabelWithNumbers": true,
   "eqNumInitial": 1,
   "hotkeys": {
    "equation": "Ctrl-E",
    "itemize": "Ctrl-I"
   },
   "labels_anchors": false,
   "latex_user_defs": false,
   "report_style_numbering": false,
   "user_envs_cfg": false
  },
  "nteract": {
   "version": "0.12.3"
  }
 },
 "nbformat": 4,
 "nbformat_minor": 2
}
